{
 "cells": [
  {
   "cell_type": "markdown",
   "id": "bbb90e23-d34c-49b3-a320-c2df3cfc447f",
   "metadata": {},
   "source": [
    "# Furniture Production Optimization Using Linear Programming\n",
    "\n",
    "This notebook demonstrates how to solve a business optimization problem using **Linear Programming** with `PuLP`. We aim to help a furniture company decide how many chairs, tables, and desks to produce for **maximum profit** under limited wood and labor resources.\n"
   ]
  },
  {
   "cell_type": "code",
   "execution_count": 11,
   "id": "fb697d58-9a91-4a38-b2e3-59d576f092f8",
   "metadata": {},
   "outputs": [],
   "source": [
    "import pulp\n",
    "import pandas as pd"
   ]
  },
  {
   "cell_type": "code",
   "execution_count": 12,
   "id": "1716562e-5fff-4b55-a723-e588814a1ab6",
   "metadata": {},
   "outputs": [],
   "source": [
    "model = pulp.LpProblem(\"Furniture_Production_Optimization\", pulp.LpMaximize)"
   ]
  },
  {
   "cell_type": "code",
   "execution_count": 13,
   "id": "3bb7e181-55bf-4b7e-8a56-2dfa50e13d2b",
   "metadata": {},
   "outputs": [],
   "source": [
    "from pulp import LpMaximize, LpProblem, LpVariable, LpStatus, value\n",
    "\n",
    "# Create the LP maximization problem\n",
    "model = LpProblem(\"Furniture_Production\", LpMaximize)\n",
    "\n",
    "# Define decision variables\n",
    "x = LpVariable(\"Chairs\", lowBound=0, cat='Integer')\n",
    "y = LpVariable(\"Tables\", lowBound=0, cat='Integer')\n",
    "z = LpVariable(\"Desks\", lowBound=0, cat='Integer')\n",
    "\n",
    "# Objective Function: Maximize profit\n",
    "model += 40 * x + 80 * y + 70 * z, \"Total_Profit\"\n",
    "\n",
    "# Constraints\n",
    "model += 2 * x + 5 * y + 4 * z <= 200, \"Wood_Constraint\"\n",
    "model += 3 * x + 6 * y + 5 * z <= 240, \"Labor_Constraint\"\n",
    "model += x >= 10, \"Minimum_Chairs\"\n",
    "model += y <= 30, \"Max_Tables\""
   ]
  },
  {
   "cell_type": "code",
   "execution_count": 14,
   "id": "993e62e0-434a-40f9-8187-61450cc034e8",
   "metadata": {},
   "outputs": [
    {
     "name": "stdout",
     "output_type": "stream",
     "text": [
      "Status: Optimal\n",
      "Chairs to produce: 10.0\n",
      "Tables to produce: 0.0\n",
      "Desks to produce: 42.0\n",
      "Maximum Profit: 3340.0\n"
     ]
    }
   ],
   "source": [
    "# Solve the problem\n",
    "model.solve()\n",
    "\n",
    "# Display results\n",
    "print(\"Status:\", LpStatus[model.status])\n",
    "print(\"Chairs to produce:\", x.varValue)\n",
    "print(\"Tables to produce:\", y.varValue)\n",
    "print(\"Desks to produce:\", z.varValue)\n",
    "print(\"Maximum Profit:\", value(model.objective))"
   ]
  },
  {
   "cell_type": "code",
   "execution_count": 15,
   "id": "7b8925a2-d53a-47b8-9812-48c96b6cb1fe",
   "metadata": {},
   "outputs": [
    {
     "name": "stdout",
     "output_type": "stream",
     "text": [
      "Slack in Wood Constraint: 12.0\n",
      "Slack in Labor Constraint: -0.0\n"
     ]
    }
   ],
   "source": [
    "print(\"Slack in Wood Constraint:\", model.constraints[\"Wood_Constraint\"].slack)\n",
    "print(\"Slack in Labor Constraint:\", model.constraints[\"Labor_Constraint\"].slack)"
   ]
  },
  {
   "cell_type": "code",
   "execution_count": 16,
   "id": "d5eca66e-f140-4edc-bd5d-963688b848f0",
   "metadata": {},
   "outputs": [
    {
     "data": {
      "text/html": [
       "<div>\n",
       "<style scoped>\n",
       "    .dataframe tbody tr th:only-of-type {\n",
       "        vertical-align: middle;\n",
       "    }\n",
       "\n",
       "    .dataframe tbody tr th {\n",
       "        vertical-align: top;\n",
       "    }\n",
       "\n",
       "    .dataframe thead th {\n",
       "        text-align: right;\n",
       "    }\n",
       "</style>\n",
       "<table border=\"1\" class=\"dataframe\">\n",
       "  <thead>\n",
       "    <tr style=\"text-align: right;\">\n",
       "      <th></th>\n",
       "      <th>Product</th>\n",
       "      <th>Quantity</th>\n",
       "    </tr>\n",
       "  </thead>\n",
       "  <tbody>\n",
       "    <tr>\n",
       "      <th>0</th>\n",
       "      <td>Chairs</td>\n",
       "      <td>10.0</td>\n",
       "    </tr>\n",
       "    <tr>\n",
       "      <th>1</th>\n",
       "      <td>Tables</td>\n",
       "      <td>0.0</td>\n",
       "    </tr>\n",
       "    <tr>\n",
       "      <th>2</th>\n",
       "      <td>Desks</td>\n",
       "      <td>42.0</td>\n",
       "    </tr>\n",
       "  </tbody>\n",
       "</table>\n",
       "</div>"
      ],
      "text/plain": [
       "  Product  Quantity\n",
       "0  Chairs      10.0\n",
       "1  Tables       0.0\n",
       "2   Desks      42.0"
      ]
     },
     "execution_count": 16,
     "metadata": {},
     "output_type": "execute_result"
    }
   ],
   "source": [
    "results = pd.DataFrame({\n",
    "    'Product': ['Chairs', 'Tables', 'Desks'],\n",
    "    'Quantity': [x.varValue, y.varValue, z.varValue]\n",
    "})\n",
    "results.to_csv('optimal_production_plan.csv', index=False)\n",
    "results"
   ]
  },
  {
   "cell_type": "code",
   "execution_count": null,
   "id": "9e3992f7-1116-43a8-b45a-10f0c9837b04",
   "metadata": {},
   "outputs": [],
   "source": []
  }
 ],
 "metadata": {
  "kernelspec": {
   "display_name": "Python 3 (ipykernel)",
   "language": "python",
   "name": "python3"
  },
  "language_info": {
   "codemirror_mode": {
    "name": "ipython",
    "version": 3
   },
   "file_extension": ".py",
   "mimetype": "text/x-python",
   "name": "python",
   "nbconvert_exporter": "python",
   "pygments_lexer": "ipython3",
   "version": "3.12.6"
  }
 },
 "nbformat": 4,
 "nbformat_minor": 5
}
